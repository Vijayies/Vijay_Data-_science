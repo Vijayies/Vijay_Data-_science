{
 "cells": [
  {
   "cell_type": "markdown",
   "id": "f4cad446-cee2-43b4-9629-493d7f5bd927",
   "metadata": {},
   "source": [
    "#Create a markdown cell for an introduction with Markdown\n",
    "# H1:Data Science Tools and Ecosystem (Level 1 Heading)\n",
    "## H2:Data Science Tools and Ecosystem (Level 2 Heading)\n",
    "### H3:Data Science Tools and Ecosystem (Level 3 Heading)\n",
    "#### H4:Data Science Tools and Ecosystem (Level 4 Heading)\n",
    "###### H5:Data Science Tools and Ecosystem (Level 5 Heading)"
   ]
  },
  {
   "cell_type": "markdown",
   "id": "fe986ddb-13ca-4f40-97da-9d0b5fb0cd1b",
   "metadata": {},
   "source": [
    "#Insert a markdown cell to indicate objectives\n",
    "# Objective   \n",
    "- Create a Jupyter Notebook\n",
    "- Insert Code and Markdown Cell\n",
    "-  Share your notebook through GitHub"
   ]
  },
  {
   "cell_type": "markdown",
   "id": "3e1055ed-f1b7-4a6f-95d8-dbc713ef29f8",
   "metadata": {},
   "source": [
    "#Text in italics using asterisk.\n",
    "\n",
    "##Text in italics using underscore.\n",
    "\n",
    "***Data Science Tools and Ecosystem***\n",
    "\n",
    "_Data Science Tools and Ecosystem_\n"
   ]
  },
  {
   "cell_type": "markdown",
   "id": "3c3532e5-33d6-4f09-bb67-2737f5eb5bea",
   "metadata": {},
   "source": [
    "# Create a markdown cell for an introduction\n",
    "# In this notebook, data science tools and environments are summarised:\n",
    "# Data Science Tools\n",
    "- NoSQL Databases\n",
    "- Apache Airflow and Apache Kafka\n",
    "- Tableau and PowerBI\n",
    "- Jupyter Notebooks and RStudio\n",
    "- Data Science Environments\n",
    "\n",
    "# Data Science Tasks support the following:\n",
    "- Code Asset Management\n",
    "- Data Asset Management \n",
    "- Development Environments\n",
    "- Execution Environments\n",
    "\n"
   ]
  },
  {
   "cell_type": "markdown",
   "id": "3a645569-6886-4a54-ae70-6b14fac71f95",
   "metadata": {},
   "source": [
    "#Create a Markdown Cell to list data science languages\n",
    "\n",
    "***Some of the popular languages that Data Scientist use are:***\n",
    "\n",
    "1. Python\n",
    "2. R\n",
    "3. Java\n",
    "4. SQL\n",
    "5. Scala\n",
    "6. C++\n",
    "7. Julia\n",
    "8. Pandas\n",
    "9. NumPy\n",
    "10. SciPy\n",
    "11.Matplotlib\n",
    "\n"
   ]
  },
  {
   "cell_type": "markdown",
   "id": "97dfd178-e400-4ce8-ad41-567c7939973e",
   "metadata": {},
   "source": [
    "#Create a Markdown Cell to list data science Libraries\n",
    "\n",
    "***Some of the commonly used libraries used by Data Scientist include:***\n",
    "\n",
    "- Tensorflow\n",
    "- Numpy\n",
    "- Seaborn\n",
    "- Pandas\n",
    "- Jupyter Note"
   ]
  },
  {
   "cell_type": "markdown",
   "id": "e3170d03-16a9-40d6-874a-036826c119b0",
   "metadata": {},
   "source": [
    "# Create a markdown cell with a table\n",
    "|Country Name|Capital|\n",
    "|------------|-------|\n",
    "|Germany| Berlin|\n",
    "|France |Pariss|\n",
    "|Belgium|Brussels|"
   ]
  },
  {
   "cell_type": "markdown",
   "id": "f043db56-d186-40bc-857b-114a7b8005b2",
   "metadata": {},
   "source": [
    "# Create a Markdown Cell with a table of Data Science Tools\n",
    "|Data Science Tools|\n",
    "|------------------|\n",
    "| Watston Studio   |\n",
    "| Rstudio          |\n",
    "| Jupyter Note     |\n"
   ]
  },
  {
   "cell_type": "markdown",
   "id": "f536559f-8f5c-4921-82bf-c8ceea3775cd",
   "metadata": {},
   "source": [
    "# Create a Markdown Cell introducing arithmetic expression examples\n",
    "\n",
    "Below are a few examples of arithmatic expressions in python.\n",
    "\n",
    "- Addition\n",
    "- Subtraction\n",
    "- Division \n"
   ]
  },
  {
   "cell_type": "code",
   "execution_count": 25,
   "id": "44bc4f94-d086-4360-ae23-3b3ef53f904a",
   "metadata": {},
   "outputs": [
    {
     "data": {
      "text/plain": [
       "38"
      ]
     },
     "execution_count": 25,
     "metadata": {},
     "output_type": "execute_result"
    }
   ],
   "source": [
    "# Create a Code Cell to multiply and add numbers\n",
    "\n",
    "##This is a simple arithmetic expression to multiply and then add integers\n",
    "(7*5)+3"
   ]
  },
  {
   "cell_type": "code",
   "execution_count": 15,
   "id": "468fd676-c14c-474b-ac1d-2c5404f53983",
   "metadata": {},
   "outputs": [
    {
     "data": {
      "text/plain": [
       "5"
      ]
     },
     "execution_count": 15,
     "metadata": {},
     "output_type": "execute_result"
    }
   ],
   "source": [
    "# Create a code cell to convert minutes to hours\n",
    "#This will convert 300 minutes to hours by dividing by 60\n",
    "300//60"
   ]
  },
  {
   "cell_type": "markdown",
   "id": "e41ee4cf-4a90-4b85-a871-145c57362d8d",
   "metadata": {},
   "source": [
    "#Creat a Markdown cell to indicate Author and add you name\n",
    "\n",
    "***Author*** \n",
    "\n",
    "***Vijay Kumar***"
   ]
  }
 ],
 "metadata": {
  "kernelspec": {
   "display_name": "Python 3 (ipykernel)",
   "language": "python",
   "name": "python3"
  },
  "language_info": {
   "codemirror_mode": {
    "name": "ipython",
    "version": 3
   },
   "file_extension": ".py",
   "mimetype": "text/x-python",
   "name": "python",
   "nbconvert_exporter": "python",
   "pygments_lexer": "ipython3",
   "version": "3.12.4"
  }
 },
 "nbformat": 4,
 "nbformat_minor": 5
}
